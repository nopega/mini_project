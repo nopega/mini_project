{
 "cells": [
  {
   "cell_type": "code",
   "execution_count": 159,
   "metadata": {},
   "outputs": [],
   "source": [
    "test_string = '''<div class=\"li-main introduction centered card\">\n",
    "                    <ol>This is a table of directors. The terms and conditions for using the table are as follows:\n",
    "                        <li class=\"li-details\">This should not be shared without written permission by the provider</li>\n",
    "                        <li class=\"li-details\">The user has reponsibility on misuse of any of the information provided</li>\n",
    "                    </ol>\n",
    "                </div>\n",
    "                <div class=\"li-main director-info centered card\">\n",
    "                    <ul>Directors of the companies include:\n",
    "                        <li class=\"li-details\">Melina Marvin</li>\n",
    "                        <li class=\"li-details\">Terry Belmont</li>\n",
    "                        <li class=\"li-details\">Trudi North</li>\n",
    "                    </ul>\n",
    "                </div>\n",
    "                <div class=\"li-main advertisement centered card\">\n",
    "                    <ul>Subscribe now for the following benefits!\n",
    "                        <li class=\"li-details\">Free news letter everyweek</li>\n",
    "                        <li class=\"li-details\">Exclusive in-depth info</li>\n",
    "                    </ul>\n",
    "                </div>'''\n",
    "#test_string = test_string.split('</div>')\n",
    "name = \"director-info\"\n",
    "result=''"
   ]
  },
  {
   "cell_type": "code",
   "execution_count": 132,
   "metadata": {},
   "outputs": [],
   "source": [
    "def start(name,test_string,result):\n",
    "    x = []\n",
    "    y = []\n",
    "    for i in range (0,len(test_string)):\n",
    "        if name in test_string[i] :\n",
    "            result = test_string[i].replace(\" \",'')\n",
    "            result = result.split(\"\\n\")\n",
    "    print(result)\n",
    "    for i in range (0,len(result)):\n",
    "        if \"</li>\" in result[i] :\n",
    "            x.append(result[i])\n",
    "    print(x)\n",
    "    for i in range (0,len(x)):\n",
    "        y.append(x[i].replace('<liclass=\"li-details\">','').replace('</li>',''))\n",
    "    print(y)\n",
    "    return y"
   ]
  },
  {
   "cell_type": "code",
   "execution_count": 133,
   "metadata": {},
   "outputs": [
    {
     "name": "stdout",
     "output_type": "stream",
     "text": [
      "\n",
      "[]\n",
      "[]\n"
     ]
    },
    {
     "data": {
      "text/plain": [
       "[]"
      ]
     },
     "execution_count": 133,
     "metadata": {},
     "output_type": "execute_result"
    }
   ],
   "source": [
    "x = start(name,test_string,result)\n",
    "x"
   ]
  },
  {
   "cell_type": "code",
   "execution_count": 144,
   "metadata": {},
   "outputs": [],
   "source": [
    "test_string = '''<div class=\"li-main introduction centered card\">\n",
    "                    <ol>This is a table of directors. The terms and conditions for using the table are as follows:\n",
    "                        <li class=\"li-details\">This should not be shared without written permission by the provider</li>\n",
    "                        <li class=\"li-details\">The user has reponsibility on misuse of any of the information provided</li>\n",
    "                    </ol>\n",
    "                </div>\n",
    "                <div class=\"li-main director-info centered card\">\n",
    "                    <div class=\"card indent\">\n",
    "                        <p>Our directors truly believe in the standards of good governance</p>\n",
    "                    </div>\n",
    "                    <div class=\"card indent\">\n",
    "                        <ul class=\"directors-ul\">Directors of the companies include:\n",
    "                            <li class=\"li-details\">Melina Marvin</li>\n",
    "                            <li class=\"li-details\">Terry Belmont</li>\n",
    "                            <li class=\"li-details\">Trudi North</li>\n",
    "                        </ul>\n",
    "                    </div>\n",
    "                </div>\n",
    "                <div class=\"li-main advertisement centered card\">\n",
    "                    <ul>Subscribe now for the following benefits!\n",
    "                        <li class=\"li-details\">Free news letter everyweek</li>\n",
    "                        <li class=\"li-details\">Exclusive in-depth info</li>\n",
    "                    </ul>\n",
    "                </div>\n",
    "                '''"
   ]
  },
  {
   "cell_type": "code",
   "execution_count": 149,
   "metadata": {},
   "outputs": [],
   "source": [
    "def sprit_html(html):\n",
    "    div = 0\n",
    "    slash_div=0\n",
    "    string=\"\"\n",
    "    array=[]\n",
    "    html = html.split('\\n')\n",
    "    for i in range (0,len(html)):\n",
    "        if '<div' in html[i]:\n",
    "            div = div+1\n",
    "            if div != slash_div:\n",
    "                string=string+html[i]\n",
    "            else:\n",
    "                array.append(string)\n",
    "                div=0\n",
    "                slash_div=0\n",
    "                string=''\n",
    "        elif '/div' in html[i]:\n",
    "            slash_div=slash_div+1\n",
    "            if div != slash_div:\n",
    "                string=string+html[i]\n",
    "            else:\n",
    "                array.append(string)\n",
    "                div=0\n",
    "                slash_div=0\n",
    "                string=''\n",
    "            #print(html[i])\n",
    "        else:\n",
    "            string=string+html[i]\n",
    "    return array\n"
   ]
  },
  {
   "cell_type": "code",
   "execution_count": 150,
   "metadata": {},
   "outputs": [],
   "source": [
    "def find_div(name,test_string,result):\n",
    "    for i in range (0,len(test_string)):\n",
    "        if name in test_string[i] :\n",
    "            result = test_string[i].replace(\" \",'')\n",
    "            result = result.split(\"\\n\")\n",
    "            return result"
   ]
  },
  {
   "cell_type": "code",
   "execution_count": 151,
   "metadata": {},
   "outputs": [],
   "source": [
    "def find_tag(word,result):\n",
    "    x = []\n",
    "    for i in range (0,len(result)):\n",
    "        #print(i)\n",
    "        #print(result[i])\n",
    "        if word in result[i] :\n",
    "            x.append(result[i])\n",
    "            #print(x)\n",
    "    return x"
   ]
  },
  {
   "cell_type": "code",
   "execution_count": 152,
   "metadata": {},
   "outputs": [],
   "source": [
    "def cut_tag(result):\n",
    "    x =[]\n",
    "    for i in range (0,len(result)):\n",
    "        x.append(result[i].replace('<liclass=\"li-details\">','').replace('</li',''))\n",
    "    return x"
   ]
  },
  {
   "cell_type": "code",
   "execution_count": 153,
   "metadata": {},
   "outputs": [],
   "source": [
    "def filter(name,test_string,result):\n",
    "        result=find_div(name,test_string,result)\n",
    "        result=find_tag(\"</li>\",result)\n",
    "        result=cut_tag(result)\n",
    "        return result"
   ]
  },
  {
   "cell_type": "code",
   "execution_count": 161,
   "metadata": {},
   "outputs": [
    {
     "name": "stdout",
     "output_type": "stream",
     "text": [
      "['<divclass=\"li-mainintroductioncenteredcard\"><ol>Thisisatableofdirectors.Thetermsandconditionsforusingthetableareasfollows:<liclass=\"li-details\">Thisshouldnotbesharedwithoutwrittenpermissionbytheprovider</li><liclass=\"li-details\">Theuserhasreponsibilityonmisuseofanyoftheinformationprovided</li></ol>']\n"
     ]
    },
    {
     "data": {
      "text/plain": [
       "['Thisshouldnotbesharedwithoutwrittenpermissionbytheprovider',\n",
       " 'Theuserhasreponsibilityonmisuseofanyoftheinformationprovided']"
      ]
     },
     "execution_count": 161,
     "metadata": {},
     "output_type": "execute_result"
    }
   ],
   "source": [
    "name = \"introduction\"\n",
    "result=''\n",
    "ro = sprit_html(test_string)\n",
    "ro = find_div(name,ro,result)\n",
    "print(ro)\n",
    "ro = ro[0]\n",
    "ro=ro.split(\">\")\n",
    "ro = find_tag(\"</li\",ro)\n",
    "ro =cut_tag(ro)\n",
    "ro"
   ]
  }
 ],
 "metadata": {
  "kernelspec": {
   "display_name": "Python 3",
   "language": "python",
   "name": "python3"
  },
  "language_info": {
   "codemirror_mode": {
    "name": "ipython",
    "version": 3
   },
   "file_extension": ".py",
   "mimetype": "text/x-python",
   "name": "python",
   "nbconvert_exporter": "python",
   "pygments_lexer": "ipython3",
   "version": "3.10.0"
  },
  "orig_nbformat": 4
 },
 "nbformat": 4,
 "nbformat_minor": 2
}
